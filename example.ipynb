{
  "nbformat": 4,
  "nbformat_minor": 0,
  "metadata": {
    "colab": {
      "name": "example.ipynb",
      "provenance": [],
      "toc_visible": true
    },
    "kernelspec": {
      "name": "python3",
      "display_name": "Python 3"
    },
    "accelerator": "GPU"
  },
  "cells": [
    {
      "cell_type": "markdown",
      "metadata": {
        "id": "j_NKSDNJMAks",
        "colab_type": "text"
      },
      "source": [
        "# Intrucciones de uso"
      ]
    },
    {
      "cell_type": "markdown",
      "metadata": {
        "id": "zW9p7O2ZLbA7",
        "colab_type": "text"
      },
      "source": [
        "### Clone el repositorio para importar los modulos"
      ]
    },
    {
      "cell_type": "code",
      "metadata": {
        "id": "3BN0a-NWLm4f",
        "colab_type": "code",
        "colab": {
          "base_uri": "https://localhost:8080/",
          "height": 34
        },
        "outputId": "1d4f9dc7-409f-45e4-c3f4-1d14d7e31271"
      },
      "source": [
        "!git clone https://github.com/mandalarotation/GenSchedulingCuda-GSC.git"
      ],
      "execution_count": 2,
      "outputs": [
        {
          "output_type": "stream",
          "text": [
            "fatal: destination path 'GenSchedulingCuda-GSC' already exists and is not an empty directory.\n"
          ],
          "name": "stdout"
        }
      ]
    },
    {
      "cell_type": "markdown",
      "metadata": {
        "id": "b6Q5vyaDMru5",
        "colab_type": "text"
      },
      "source": [
        "### Ingrese a la carpeta del proyecto"
      ]
    },
    {
      "cell_type": "code",
      "metadata": {
        "id": "AhtXC829MnQE",
        "colab_type": "code",
        "colab": {
          "base_uri": "https://localhost:8080/",
          "height": 34
        },
        "outputId": "3cb394b0-c95f-42dd-a3f4-c81fd9580529"
      },
      "source": [
        "cd GenSchedulingCuda-GSC"
      ],
      "execution_count": 3,
      "outputs": [
        {
          "output_type": "stream",
          "text": [
            "/content/GenSchedulingCuda-GSC\n"
          ],
          "name": "stdout"
        }
      ]
    },
    {
      "cell_type": "markdown",
      "metadata": {
        "id": "_Xikg8ZOML3E",
        "colab_type": "text"
      },
      "source": [
        "### Importe la clase principal GSC"
      ]
    },
    {
      "cell_type": "code",
      "metadata": {
        "id": "9-g93pXPL4bp",
        "colab_type": "code",
        "colab": {}
      },
      "source": [
        "from modules.gsc_module import GSC"
      ],
      "execution_count": 0,
      "outputs": []
    },
    {
      "cell_type": "markdown",
      "metadata": {
        "id": "ZF6WOS3nMws-",
        "colab_type": "text"
      },
      "source": [
        "### Datos de un problema tipico de Single-Machine "
      ]
    },
    {
      "cell_type": "code",
      "metadata": {
        "id": "HD8EkzVSM67Y",
        "colab_type": "code",
        "colab": {}
      },
      "source": [
        "p=[10,10,13,4,9,4,8,15,7,1,9,3,15,9,11,6,5,14,18,3]  \n",
        "d=[50,38,49,12,20,105,73,45,6,64,15,6,92,43,78,21,15,50,150,99]\n",
        "w=[10,5,1,5,10,1,5,10,5,1,5,10,10,5,1,10,5,5,1,5]  "
      ],
      "execution_count": 0,
      "outputs": []
    },
    {
      "cell_type": "markdown",
      "metadata": {
        "id": "NnnRA-JONJ1D",
        "colab_type": "text"
      },
      "source": [
        "### Crear población "
      ]
    },
    {
      "cell_type": "code",
      "metadata": {
        "id": "5JStOdKwNJPI",
        "colab_type": "code",
        "colab": {}
      },
      "source": [
        "x = GSC.create_object_SingleMachine(3000000,20,p,d,w,0.3,0.4)"
      ],
      "execution_count": 0,
      "outputs": []
    },
    {
      "cell_type": "markdown",
      "metadata": {
        "id": "DSslk6gySYGM",
        "colab_type": "text"
      },
      "source": [
        "### Calcular fitness sobre la población"
      ]
    },
    {
      "cell_type": "code",
      "metadata": {
        "id": "_QWfNzIwSW-K",
        "colab_type": "code",
        "colab": {}
      },
      "source": [
        "x = GSC.GeneralFunctions.calculate_fitness(x)"
      ],
      "execution_count": 0,
      "outputs": []
    },
    {
      "cell_type": "markdown",
      "metadata": {
        "id": "IHec63ZaSkWk",
        "colab_type": "text"
      },
      "source": [
        "### Ordenar población según Fitness"
      ]
    },
    {
      "cell_type": "code",
      "metadata": {
        "id": "srsgfyzgSjWS",
        "colab_type": "code",
        "colab": {}
      },
      "source": [
        "x = GSC.GeneralFunctions.sort_population(x)"
      ],
      "execution_count": 0,
      "outputs": []
    },
    {
      "cell_type": "markdown",
      "metadata": {
        "id": "oD7Xd6EcSuyU",
        "colab_type": "text"
      },
      "source": [
        "### Aplicar Cruce "
      ]
    },
    {
      "cell_type": "code",
      "metadata": {
        "id": "zLP7L3g4SuCh",
        "colab_type": "code",
        "colab": {}
      },
      "source": [
        "x = GSC.GeneralFunctions.crossover_population(x)"
      ],
      "execution_count": 0,
      "outputs": []
    },
    {
      "cell_type": "markdown",
      "metadata": {
        "id": "lRh3FEd6S4AZ",
        "colab_type": "text"
      },
      "source": [
        "### Aplicar Mutación"
      ]
    },
    {
      "cell_type": "code",
      "metadata": {
        "id": "jprZY_F2S1-X",
        "colab_type": "code",
        "colab": {}
      },
      "source": [
        "x = GSC.GeneralFunctions.mutation(x)"
      ],
      "execution_count": 0,
      "outputs": []
    },
    {
      "cell_type": "markdown",
      "metadata": {
        "id": "wOfL-FlxTBGh",
        "colab_type": "text"
      },
      "source": [
        "### Aplicar Migración "
      ]
    },
    {
      "cell_type": "code",
      "metadata": {
        "id": "__AJ8qMDS_R3",
        "colab_type": "code",
        "colab": {}
      },
      "source": [
        "x = GSC.GeneralFunctions.migration(x)"
      ],
      "execution_count": 0,
      "outputs": []
    },
    {
      "cell_type": "markdown",
      "metadata": {
        "id": "NNJ8VHObTFNg",
        "colab_type": "text"
      },
      "source": [
        " # El proceso anterior se puede extender con un ciclo for que lo haga muchas veces"
      ]
    },
    {
      "cell_type": "code",
      "metadata": {
        "id": "dVLSp1zrTTtm",
        "colab_type": "code",
        "colab": {
          "base_uri": "https://localhost:8080/",
          "height": 364
        },
        "outputId": "0c4273d5-3f35-48c0-cb8b-bc9aeecddf6d"
      },
      "source": [
        "x = GSC.create_object_SingleMachine(3000000,20,p,d,w,0.3,0.4)\n",
        "\n",
        "for i in range(20):\n",
        "  x = GSC.GeneralFunctions.calculate_fitness(x)\n",
        "  x = GSC.GeneralFunctions.sort_population(x)\n",
        "  x = GSC.GeneralFunctions.crossover_population(x)\n",
        "  x = GSC.GeneralFunctions.mutation(x)\n",
        "  x = GSC.GeneralFunctions.migration(x)\n",
        "  print(x.fitness[0])"
      ],
      "execution_count": 12,
      "outputs": [
        {
          "output_type": "stream",
          "text": [
            "2402.0\n",
            "2452.0\n",
            "2283.0\n",
            "2250.0\n",
            "2170.0\n",
            "2141.0\n",
            "2088.0\n",
            "2058.0\n",
            "2020.0\n",
            "2015.0\n",
            "2010.0\n",
            "2000.0\n",
            "1975.0\n",
            "1975.0\n",
            "1975.0\n",
            "1975.0\n",
            "1975.0\n",
            "1975.0\n",
            "1975.0\n",
            "1968.0\n"
          ],
          "name": "stdout"
        }
      ]
    },
    {
      "cell_type": "markdown",
      "metadata": {
        "id": "O4ACS2zqTequ",
        "colab_type": "text"
      },
      "source": [
        "### Ver fitness y población final "
      ]
    },
    {
      "cell_type": "code",
      "metadata": {
        "id": "RtX5cVOiTa_U",
        "colab_type": "code",
        "colab": {
          "base_uri": "https://localhost:8080/",
          "height": 34
        },
        "outputId": "f6482523-caac-46f0-8c11-927af940044e"
      },
      "source": [
        "x.fitness[0]"
      ],
      "execution_count": 13,
      "outputs": [
        {
          "output_type": "execute_result",
          "data": {
            "text/plain": [
              "array(1968.)"
            ]
          },
          "metadata": {
            "tags": []
          },
          "execution_count": 13
        }
      ]
    },
    {
      "cell_type": "code",
      "metadata": {
        "id": "qad6-EReTlZn",
        "colab_type": "code",
        "colab": {
          "base_uri": "https://localhost:8080/",
          "height": 52
        },
        "outputId": "4c8e4cf6-1ca0-473a-c57c-ea5887906cf8"
      },
      "source": [
        "x.population[0]"
      ],
      "execution_count": 14,
      "outputs": [
        {
          "output_type": "execute_result",
          "data": {
            "text/plain": [
              "array([11.,  3.,  4., 15., 16.,  8.,  0., 10.,  7.,  6.,  9., 12., 13.,\n",
              "       19.,  1., 17.,  5.,  2., 14., 18.])"
            ]
          },
          "metadata": {
            "tags": []
          },
          "execution_count": 14
        }
      ]
    }
  ]
}
